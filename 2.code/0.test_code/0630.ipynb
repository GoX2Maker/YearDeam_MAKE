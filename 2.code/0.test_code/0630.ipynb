{
 "cells": [
  {
   "cell_type": "code",
   "execution_count": 2,
   "metadata": {},
   "outputs": [],
   "source": [
    "from random import randint, shuffle\n",
    "import pandas as pd\n",
    "\n",
    "def rnd(num):\n",
    "    \n",
    "    return randint(0,num)"
   ]
  },
  {
   "cell_type": "code",
   "execution_count": 3,
   "metadata": {},
   "outputs": [
    {
     "data": {
      "text/plain": [
       "('11616764', '2020', '6', '15', '1064')"
      ]
     },
     "execution_count": 3,
     "metadata": {},
     "output_type": "execute_result"
    }
   ],
   "source": [
    "def num_0_to_4(): # 1 ~ 4\n",
    "\n",
    "    num0 = str(randint(10000000, 12000000))\n",
    "    num1 = str(randint(2000, 2100))\n",
    "    num2 = str(randint(1, 12))\n",
    "    num3 = str(randint(1, 31))\n",
    "    num4 = str(randint(1, 10000))\n",
    "\n",
    "    return num0,num1,num2,num3,num4\n",
    "\n",
    "num_0_to_4()"
   ]
  },
  {
   "cell_type": "code",
   "execution_count": 4,
   "metadata": {},
   "outputs": [
    {
     "data": {
      "text/plain": [
       "'엄민혁'"
      ]
     },
     "execution_count": 4,
     "metadata": {},
     "output_type": "execute_result"
    }
   ],
   "source": [
    "# 이름 생성기\n",
    "def name_maker(): # 5, 21, 116\n",
    "    \n",
    "    last_name=['김', '이', '박', '최', '정', '강', '조', '윤', '장', '임', '한', '오', '서', '신', '권', '황', '안', '송', '류', '전', '홍', '고', '문', '양', '손', '배', '조', '백', '허', '유', '남', '심', '노', '정', '하', '곽', '성', '차', '주', '우', '구', '신', '임', '라', '전', '민', '유', '진', '지', '엄', '채', '원', '천', '방', '공', '강', '현', '함', '변', '염', '양', '변', '여', '추', '노', '도', '소', '신', '석', '선', '설', '마', '길', '주', '연', '방', '위', '표', '명', '기', '반', '왕', '금', '옥', '육', '인', '맹', '제', '모', '장', '남궁', '탁', '국', '여', '진', '어', '은', '편', '구', '용', '유', '예', '경', '봉', '정', '석', '사', '부', '황보', '가', '복', '태', '목', '진', '형', '계', '최', '피', '두', '지', '감', '장']\n",
    "    first_name=['서율', '하영', '서은', '도희', '도윤', '서윤', '서준', '은우', '시아', '하진', '다인', '예서', '민재', '시은', '주은', '은서', '시현', '시원', '하늘', '하람', '도영', '은호', '서아', '민규', '예원', '서진', '서영', '지민', '지우', '민하', '은준', '민주', '민서', '윤아', '다연', '주희', '다온', '다원', '은정', '윤재', '예은', '서하', '지현', '민지', '민영', '하은', '승현', '서우', '민혁', '현서', '승주', '시우', '승우', '수아', '수민', '시윤', '지원', '승민', '다은', '주현', '현준', '예빈', '은주', '도현', '지안', '지유', '혜원', '유진', '지아', '민아', '주원', '예준', '지윤', '하윤', '지애', '채원', '예진', '지후', '예나', '진아', '진서', '진우', '소율', '지호', '우진', '정우', '소윤', '재민', '건우', '윤서', '윤호', '수빈','하율','예린','현우','준우','다현','서연','연우','하린','유준','하준','준서','이준','서현','은지','민준','선우','서율', '하영', '서은', '도희', '도윤', '서윤', '서준', '은우', '시아', '하진', '다인', '예서', '민재', '시은']\n",
    "\n",
    "    i=rnd(len(last_name))\n",
    "    j=rnd(len(first_name))\n",
    "    return f'{last_name[i]}{first_name[j]}'\n",
    "\n",
    "name_maker()"
   ]
  },
  {
   "cell_type": "code",
   "execution_count": 5,
   "metadata": {},
   "outputs": [
    {
     "data": {
      "text/plain": [
       "'140822-4835326'"
      ]
     },
     "execution_count": 5,
     "metadata": {},
     "output_type": "execute_result"
    }
   ],
   "source": [
    "\n",
    "def num6(): # 6\n",
    "    \n",
    "    year_full=str(randint(1950,2023))  \n",
    "          \n",
    "    year=year_full[2:4]    \n",
    "    \n",
    "    month=str(randint(1,13)).zfill(2)    \n",
    "    \n",
    "    day=str(randint(1,32))    \n",
    "    \n",
    "    gender=randint(1,2) if year_full[0:2]=='19' else randint(3,4)    \n",
    "    \n",
    "    random_number=str(randint(0,999999)).zfill(6)    \n",
    "    \n",
    "    return f'{year}{month}{day}-{gender}{random_number}'\n",
    "\n",
    "num6()"
   ]
  },
  {
   "cell_type": "code",
   "execution_count": 6,
   "metadata": {},
   "outputs": [
    {
     "data": {
      "text/plain": [
       "'033-8885-0739'"
      ]
     },
     "execution_count": 6,
     "metadata": {},
     "output_type": "execute_result"
    }
   ],
   "source": [
    "def phone_number_maker(): # 8 ~ 9\n",
    "    \n",
    "    area_code_list=['02','032','042','051','052','053','062','064','031','033','041','043','054','055','061','063','010']\n",
    "    area_code_idx=rnd(len(area_code_list))\n",
    "    area_code=area_code_list[area_code_idx]\n",
    "    \n",
    "    phone_number1=str(randint(0,9999)).zfill(4)\n",
    "    phone_number2=str(randint(0,9999)).zfill(4)\n",
    "    \n",
    "    return f'{area_code}-{phone_number1}-{phone_number2}'\n",
    "\n",
    "phone_number_maker()"
   ]
  },
  {
   "cell_type": "code",
   "execution_count": 7,
   "metadata": {},
   "outputs": [
    {
     "data": {
      "text/plain": [
       "'wxdbfk@gmail.com'"
      ]
     },
     "execution_count": 7,
     "metadata": {},
     "output_type": "execute_result"
    }
   ],
   "source": [
    "def email_maker(): # 10\n",
    "    \n",
    "    string='abcdefghijklmnopqrstuvwxyz'\n",
    "    string_list=list(string)\n",
    "\n",
    "    id_list=string_list.copy()\n",
    "    shuffle(id_list)\n",
    "\n",
    "    id_length=randint(6,15)\n",
    "    id=''.join(id_list[:id_length])\n",
    "\n",
    "    email_idx=rnd(2)\n",
    "    email_list=['@gmail.com','@naver.com','@daum.net']\n",
    "    email=email_list[email_idx]\n",
    "\n",
    "    return f'{id}{email}'\n",
    "\n",
    "email_maker()"
   ]
  },
  {
   "cell_type": "code",
   "execution_count": 8,
   "metadata": {},
   "outputs": [
    {
     "data": {
      "text/plain": [
       "'D5'"
      ]
     },
     "execution_count": 8,
     "metadata": {},
     "output_type": "execute_result"
    }
   ],
   "source": [
    "def kcd(): # Korean Standard Classification of Disease # 11 ~ 20\n",
    "    \n",
    "    string='abcdefghijklmnopqrstuvwxyz'\n",
    "    string_list=list(string.upper())\n",
    "    kcd_list=string_list.copy()\n",
    "    \n",
    "    shuffle(kcd_list)\n",
    "    \n",
    "    kcd_num=str(randint(0,9))\n",
    "\n",
    "    return kcd_list[0]+kcd_num\n",
    "\n",
    "kcd()"
   ]
  },
  {
   "cell_type": "code",
   "execution_count": 9,
   "metadata": {},
   "outputs": [
    {
     "name": "stdout",
     "output_type": "stream",
     "text": [
      "한의사\n"
     ]
    }
   ],
   "source": [
    "## 22번 : 면허종별 - \"「의료법」에서는 처방전 발급 의무의 주체를 “의사 또는 치과의사”로 규정하고 해당 “의사 또는 치과의사”가 발급하는 처방전의 서식 등에 관해 규정\"\n",
    "## 한의사의 경우 처방전 발급 의무는 없으나 한약사에게 조제 요청을 위해 처방전을 발급하는 경우가 있음. (이 경우 약 이름은 한글이겠지요?) \n",
    "def num_22():\n",
    "    license_list = [\"의사\", \"치과의사\", \"한의사\"]\n",
    "    n = randint(0,2)\n",
    "    return license_list[n]\n",
    "\n",
    "print(num_22())"
   ]
  },
  {
   "cell_type": "code",
   "execution_count": 10,
   "metadata": {},
   "outputs": [
    {
     "name": "stdout",
     "output_type": "stream",
     "text": [
      "921158\n"
     ]
    }
   ],
   "source": [
    "## 23번 면허 번호 : 6자리 숫자\n",
    "def num_23():\n",
    "    num23 = str(randint(100000,999999))\n",
    "\n",
    "    return num23\n",
    "\n",
    "print(num_23())"
   ]
  },
  {
   "cell_type": "code",
   "execution_count": 11,
   "metadata": {},
   "outputs": [
    {
     "data": {
      "text/plain": [
       "35"
      ]
     },
     "execution_count": 11,
     "metadata": {},
     "output_type": "execute_result"
    }
   ],
   "source": [
    "def num114():\n",
    "    \n",
    "    return randint(1,366)\n",
    "\n",
    "num114()"
   ]
  },
  {
   "cell_type": "code",
   "execution_count": 12,
   "metadata": {},
   "outputs": [
    {
     "data": {
      "text/plain": [
       "58"
      ]
     },
     "execution_count": 12,
     "metadata": {},
     "output_type": "execute_result"
    }
   ],
   "source": [
    "def num118():\n",
    "    \n",
    "    return randint(1,99)\n",
    "\n",
    "num118()"
   ]
  },
  {
   "cell_type": "code",
   "execution_count": 13,
   "metadata": {},
   "outputs": [
    {
     "data": {
      "text/plain": [
       "'88년 12월 5일'"
      ]
     },
     "execution_count": 13,
     "metadata": {},
     "output_type": "execute_result"
    }
   ],
   "source": [
    "def num119():\n",
    "    \n",
    "    year_full=str(randint(1950,2023))  \n",
    "          \n",
    "    year=year_full[2:4]    \n",
    "    \n",
    "    month=str(randint(1,13)).zfill(2)    \n",
    "    \n",
    "    day=str(randint(1,32))    \n",
    "    \n",
    "    return f'{year}년 {month}월 {day}일'\n",
    "\n",
    "num119()"
   ]
  },
  {
   "cell_type": "code",
   "execution_count": 16,
   "metadata": {},
   "outputs": [
    {
     "data": {
      "text/plain": [
       "'유키나제주50만단위(정제유로키나제액)(수출용)'"
      ]
     },
     "execution_count": 16,
     "metadata": {},
     "output_type": "execute_result"
    }
   ],
   "source": [
    "def med_name(): # 7, 115, 120\n",
    "    \n",
    "    dataPath='../../1.data/3.DB/medicine_list.csv' # dataPath : 의약DB 경로\n",
    "    \n",
    "    df_med=pd.read_csv(dataPath)\n",
    "\n",
    "    index = randint(0, 40000)\n",
    "    \n",
    "    med_name = df_med.iloc[index, 2]\n",
    "\n",
    "    return med_name\n",
    "\n",
    "\n",
    "med_name()"
   ]
  },
  {
   "cell_type": "code",
   "execution_count": null,
   "metadata": {},
   "outputs": [],
   "source": []
  }
 ],
 "metadata": {
  "kernelspec": {
   "display_name": "Python 3",
   "language": "python",
   "name": "python3"
  },
  "language_info": {
   "codemirror_mode": {
    "name": "ipython",
    "version": 3
   },
   "file_extension": ".py",
   "mimetype": "text/x-python",
   "name": "python",
   "nbconvert_exporter": "python",
   "pygments_lexer": "ipython3",
   "version": "3.10.9"
  },
  "orig_nbformat": 4
 },
 "nbformat": 4,
 "nbformat_minor": 2
}
