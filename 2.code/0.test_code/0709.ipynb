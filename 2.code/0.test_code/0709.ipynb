{
 "cells": [
  {
   "cell_type": "code",
   "execution_count": 4,
   "metadata": {},
   "outputs": [
    {
     "name": "stdout",
     "output_type": "stream",
     "text": [
      "0: ('11541637', [443, 132])\n",
      "1: ('2010', [94, 153])\n",
      "2: ('4', [131, 153])\n",
      "3: ('6', [162, 153])\n",
      "4: ('9057', [220, 153])\n",
      "5: ('성진서', [155, 173])\n",
      "6: ('970123-1124945', [155, 198])\n",
      "7: ('아지도민정300밀리', [362, 153])\n",
      "8: ('062-0859-9520', [362, 171])\n",
      "9: ('052-7475-0542', [362, 189])\n",
      "10: ('sxiljnvkhadcb@daum.net', [362, 205])\n",
      "11: ('W1', [79, 224])\n",
      "12: ('U7', [106, 224])\n",
      "13: ('K1', [136, 224])\n",
      "14: ('F0', [163, 224])\n",
      "15: ('H3', [194, 224])\n",
      "16: ('V8', [79, 242])\n",
      "17: ('F0', [107, 242])\n",
      "18: ('U7', [137, 242])\n",
      "19: ('H6', [164, 241])\n",
      "20: ('T0', [195, 242])\n",
      "21: ('노민재', [259, 225])\n",
      "22: ('치과의사', [423, 223])\n",
      "23: ('646253', [423, 242])\n",
      "114: (105, [162, 683])\n",
      "115: ('테보민정', [142, 718])\n",
      "116: ('지건우', [166, 738])\n",
      "117: ('제다은', [274, 738])\n",
      "118: (11, [142, 752])\n",
      "119: 56년 13월 30일\n",
      "120: ('노발탄정5/160밀', [325, 735])\n"
     ]
    }
   ],
   "source": [
    "from random import randint, shuffle\n",
    "import pandas as pd\n",
    "import temp0708 as temp\n",
    "\n",
    "def prnt():\n",
    "\n",
    "    print('0:',temp.id0())\n",
    "    print('1:',temp.id1())\n",
    "    print('2:',temp.id2())\n",
    "    print('3:',temp.id3())\n",
    "    print('4:',temp.id4())\n",
    "    print('5:',temp.name_maker(5))\n",
    "    print('6:',temp.id6())\n",
    "    print('7:',temp.med_name(7))\n",
    "    print('8:',temp.phone_number_maker(8))\n",
    "    print('9:',temp.phone_number_maker(9))\n",
    "    print('10:',temp.email_maker()) #10\n",
    "    for i in range(11,20+1): #11~20\n",
    "        print(f'{i}:',temp.kcd(i))    \n",
    "    print('21:',temp.name_maker(21))\n",
    "    print('22:',temp.id22())\n",
    "    print('23:',temp.id23())\n",
    "    print('114:',temp.id114())\n",
    "    print('115:',temp.med_name(115))\n",
    "    print('116:',temp.name_maker(116))\n",
    "    print('117:',temp.name_maker(117))\n",
    "    print('118:',temp.id118())\n",
    "    print('119:',temp.id119())\n",
    "    print('120:',temp.med_name(120))\n",
    "\n",
    "prnt()"
   ]
  },
  {
   "cell_type": "code",
   "execution_count": null,
   "metadata": {},
   "outputs": [],
   "source": []
  }
 ],
 "metadata": {
  "kernelspec": {
   "display_name": "yeardream",
   "language": "python",
   "name": "python3"
  },
  "language_info": {
   "codemirror_mode": {
    "name": "ipython",
    "version": 3
   },
   "file_extension": ".py",
   "mimetype": "text/x-python",
   "name": "python",
   "nbconvert_exporter": "python",
   "pygments_lexer": "ipython3",
   "version": "3.10.9"
  },
  "orig_nbformat": 4
 },
 "nbformat": 4,
 "nbformat_minor": 2
}
