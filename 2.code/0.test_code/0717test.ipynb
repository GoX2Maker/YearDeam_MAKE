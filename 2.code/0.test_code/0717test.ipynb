{
 "cells": [
  {
   "cell_type": "code",
   "execution_count": 6,
   "metadata": {},
   "outputs": [],
   "source": [
    "import json\n",
    "import cv2\n",
    "import os\n",
    "\n",
    "json_path = 'C:\\\\Users\\\\magic\\\\Desktop\\\\make\\\\YearDeam_MAKE\\\\1.data\\\\3.DB\\\\prescript_labeling(Fix).json'\n",
    "filename='prescript_labeling(Fix)'\n",
    "\n",
    "with open('test.txt', 'w') as f:\n",
    "    with open(json_path, 'r') as json_file:\n",
    "        data = json.load(json_file)\n",
    "        \n",
    "        # data가 리스트라면, 리스트의 각 항목에 대해 반복문을 수행합니다.\n",
    "        for i, item in enumerate(data):\n",
    "            f.write(f'{filename}\\t{item[\"cont\"]}\\n')"
   ]
  },
  {
   "cell_type": "code",
   "execution_count": 8,
   "metadata": {},
   "outputs": [
    {
     "data": {
      "text/plain": [
       "'{save_IMGPath}\\\\{imgname}_{cnt}'"
      ]
     },
     "execution_count": 8,
     "metadata": {},
     "output_type": "execute_result"
    }
   ],
   "source": [
    "test='{save_IMGPath}\\{imgname}_{cnt}.jpg'\n",
    "test[:-4]"
   ]
  },
  {
   "cell_type": "code",
   "execution_count": null,
   "metadata": {},
   "outputs": [],
   "source": [
    "t"
   ]
  }
 ],
 "metadata": {
  "kernelspec": {
   "display_name": "Python 3",
   "language": "python",
   "name": "python3"
  },
  "language_info": {
   "codemirror_mode": {
    "name": "ipython",
    "version": 3
   },
   "file_extension": ".py",
   "mimetype": "text/x-python",
   "name": "python",
   "nbconvert_exporter": "python",
   "pygments_lexer": "ipython3",
   "version": "3.10.9"
  },
  "orig_nbformat": 4
 },
 "nbformat": 4,
 "nbformat_minor": 2
}
