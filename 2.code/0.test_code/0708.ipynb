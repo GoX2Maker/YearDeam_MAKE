{
 "cells": [
  {
   "cell_type": "code",
   "execution_count": 1,
   "metadata": {},
   "outputs": [],
   "source": [
    "from random import randint, shuffle\n",
    "import pandas as pd\n",
    "\n",
    "\n",
    "def rnd(num):\n",
    "    \n",
    "    return randint(0,num)"
   ]
  },
  {
   "cell_type": "code",
   "execution_count": 2,
   "metadata": {},
   "outputs": [
    {
     "data": {
      "text/plain": [
       "[94, 153]"
      ]
     },
     "execution_count": 2,
     "metadata": {},
     "output_type": "execute_result"
    }
   ],
   "source": [
    "def xy(id):\n",
    "\n",
    "    df = pd.read_csv('../../1.data/3.DB/db.csv')\n",
    "    x1 = df['x1'].values[id]\n",
    "    y1 = df['y1'].values[id]\n",
    "    return [x1,y1]\n",
    "\n",
    "\n",
    "xy(1)"
   ]
  },
  {
   "cell_type": "code",
   "execution_count": 3,
   "metadata": {},
   "outputs": [
    {
     "name": "stdout",
     "output_type": "stream",
     "text": [
      "0: ('10397701', [443, 132])\n",
      "1: ('2070', [94, 153])\n",
      "2: ('10', [131, 153])\n",
      "3: ('6', [162, 153])\n",
      "4: ('5941', [220, 153])\n"
     ]
    }
   ],
   "source": [
    "def id0():\n",
    "    id = 0\n",
    "    val = str(randint(10000000, 12000000))\n",
    "    return val,xy(id)\n",
    "\n",
    "\n",
    "def id1():\n",
    "    id = 1\n",
    "    val = str(randint(2000, 2100))\n",
    "    return val,xy(id)\n",
    "\n",
    "\n",
    "def id2():\n",
    "    id = 2\n",
    "    val = str(randint(1, 12))\n",
    "    return val,xy(id)\n",
    "\n",
    "\n",
    "def id3():\n",
    "    id = 3\n",
    "    val = str(randint(1, 31))\n",
    "    return val,xy(id)\n",
    "\n",
    "\n",
    "def id4():\n",
    "    id = 4\n",
    "    val = str(randint(1, 10000))\n",
    "    return val,xy(id)\n",
    "\n",
    "\n",
    "print('0:',id0())\n",
    "print('1:',id1())\n",
    "print('2:',id2())\n",
    "print('3:',id3())\n",
    "print('4:',id4())"
   ]
  },
  {
   "cell_type": "code",
   "execution_count": 4,
   "metadata": {},
   "outputs": [
    {
     "name": "stdout",
     "output_type": "stream",
     "text": [
      "5: ('진소율', [155, 173])\n",
      "21: ('윤혜원', [259, 225])\n",
      "116: ('표승주', [166, 738])\n",
      "117: ('라다온', [274, 738])\n"
     ]
    }
   ],
   "source": [
    "# 이름 생성기\n",
    "def name_maker(id): # 5, 21, 116, 117\n",
    "    \n",
    "    last_name=['김', '이', '박', '최', '정', '강', '조', '윤', '장', '임', '한', '오', '서', '신', '권', '황', '안', '송', '류', '전', '홍', '고', '문', '양', '손', '배', '조', '백', '허', '유', '남', '심', '노', '정', '하', '곽', '성', '차', '주', '우', '구', '신', '임', '라', '전', '민', '유', '진', '지', '엄', '채', '원', '천', '방', '공', '강', '현', '함', '변', '염', '양', '변', '여', '추', '노', '도', '소', '신', '석', '선', '설', '마', '길', '주', '연', '방', '위', '표', '명', '기', '반', '왕', '금', '옥', '육', '인', '맹', '제', '모', '장', '남궁', '탁', '국', '여', '진', '어', '은', '편', '구', '용', '유', '예', '경', '봉', '정', '석', '사', '부', '황보', '가', '복', '태', '목', '진', '형', '계', '최', '피', '두', '지', '감', '장']\n",
    "    first_name=['서율', '하영', '서은', '도희', '도윤', '서윤', '서준', '은우', '시아', '하진', '다인', '예서', '민재', '시은', '주은', '은서', '시현', '시원', '하늘', '하람', '도영', '은호', '서아', '민규', '예원', '서진', '서영', '지민', '지우', '민하', '은준', '민주', '민서', '윤아', '다연', '주희', '다온', '다원', '은정', '윤재', '예은', '서하', '지현', '민지', '민영', '하은', '승현', '서우', '민혁', '현서', '승주', '시우', '승우', '수아', '수민', '시윤', '지원', '승민', '다은', '주현', '현준', '예빈', '은주', '도현', '지안', '지유', '혜원', '유진', '지아', '민아', '주원', '예준', '지윤', '하윤', '지애', '채원', '예진', '지후', '예나', '진아', '진서', '진우', '소율', '지호', '우진', '정우', '소윤', '재민', '건우', '윤서', '윤호', '수빈','하율','예린','현우','준우','다현','서연','연우','하린','유준','하준','준서','이준','서현','은지','민준','선우','서율', '하영', '서은', '도희', '도윤', '서윤', '서준', '은우', '시아', '하진', '다인', '예서', '민재', '시은']\n",
    "\n",
    "    i=rnd(len(last_name))\n",
    "    j=rnd(len(first_name))\n",
    "    return f'{last_name[i]}{first_name[j]}',xy(id)\n",
    "\n",
    "\n",
    "print('5:',name_maker(5))\n",
    "print('21:',name_maker(21))\n",
    "print('116:',name_maker(116))\n",
    "print('117:',name_maker(117))"
   ]
  },
  {
   "cell_type": "code",
   "execution_count": 5,
   "metadata": {},
   "outputs": [
    {
     "name": "stdout",
     "output_type": "stream",
     "text": [
      "6: ('550329-1105874', [155, 198])\n"
     ]
    }
   ],
   "source": [
    "\n",
    "def id6(): # 6\n",
    "\n",
    "    year_full=str(randint(1950,2023))\n",
    "\n",
    "    year=year_full[2:4]       \n",
    "    month=str(randint(1,13)).zfill(2)        \n",
    "    day=str(randint(1,32))    \n",
    "\n",
    "    gender=randint(1,2) if year_full[0:2]=='19' else randint(3,4)   \n",
    "    random_number=str(randint(0,999999)).zfill(6)        \n",
    "\n",
    "    return f'{year}{month}{day}-{gender}{random_number}',xy(6)\n",
    "\n",
    "\n",
    "print('6:',id6())"
   ]
  },
  {
   "cell_type": "code",
   "execution_count": 6,
   "metadata": {},
   "outputs": [
    {
     "name": "stdout",
     "output_type": "stream",
     "text": [
      "8: ('041-7271-9131', [362, 171])\n",
      "9: ('02-6238-5829', [362, 189])\n"
     ]
    }
   ],
   "source": [
    "def phone_number_maker(id): # 8 ~ 9\n",
    "    \n",
    "    area_code_list=['02','032','042','051','052','053','062','064','031','033','041','043','054','055','061','063','010']\n",
    "    area_code_idx=rnd(len(area_code_list))\n",
    "    area_code=area_code_list[area_code_idx]\n",
    "    \n",
    "    phone_number1=str(randint(0,9999)).zfill(4)\n",
    "    phone_number2=str(randint(0,9999)).zfill(4)\n",
    "    \n",
    "    return f'{area_code}-{phone_number1}-{phone_number2}',xy(id)\n",
    "\n",
    "print('8:',phone_number_maker(8))\n",
    "print('9:',phone_number_maker(9))"
   ]
  },
  {
   "cell_type": "code",
   "execution_count": 7,
   "metadata": {},
   "outputs": [
    {
     "name": "stdout",
     "output_type": "stream",
     "text": [
      "10: ('fwatsybkepzmd@naver.com', [362, 205])\n"
     ]
    }
   ],
   "source": [
    "def email_maker(): # 10\n",
    "    \n",
    "    string='abcdefghijklmnopqrstuvwxyz'\n",
    "    string_list=list(string)\n",
    "\n",
    "    id_list=string_list.copy()\n",
    "    shuffle(id_list)\n",
    "\n",
    "    id_length=randint(6,12+1)\n",
    "    id=''.join(id_list[:id_length])\n",
    "\n",
    "    email_idx=rnd(2)\n",
    "    email_list=['@gmail.com','@naver.com','@daum.net']\n",
    "    email=email_list[email_idx]\n",
    "\n",
    "    return f'{id}{email}',xy(10)\n",
    "\n",
    "print('10:',email_maker())"
   ]
  },
  {
   "cell_type": "code",
   "execution_count": 8,
   "metadata": {},
   "outputs": [
    {
     "name": "stdout",
     "output_type": "stream",
     "text": [
      "11: ('G7', [79, 224])\n",
      "12: ('U3', [106, 224])\n",
      "13: ('F7', [136, 224])\n",
      "14: ('B6', [163, 224])\n",
      "15: ('E1', [194, 224])\n",
      "16: ('A6', [79, 242])\n",
      "17: ('W4', [107, 242])\n",
      "18: ('T4', [137, 242])\n",
      "19: ('E2', [164, 241])\n",
      "20: ('F9', [195, 242])\n"
     ]
    }
   ],
   "source": [
    "def kcd(id): # Korean Standard Classification of Disease # 11 ~ 20\n",
    "    \n",
    "    string='abcdefghijklmnopqrstuvwxyz'\n",
    "    string_list=list(string.upper())\n",
    "    kcd_list=string_list.copy()\n",
    "    \n",
    "    shuffle(kcd_list)\n",
    "    \n",
    "    kcd_num=str(randint(0,9))\n",
    "\n",
    "    return kcd_list[0]+kcd_num,xy(id)\n",
    "\n",
    "\n",
    "for i in range(11,20+1):\n",
    "    print(f'{i}:',kcd(i))"
   ]
  },
  {
   "cell_type": "code",
   "execution_count": 9,
   "metadata": {},
   "outputs": [
    {
     "name": "stdout",
     "output_type": "stream",
     "text": [
      "22: ('의사', [423, 223])\n"
     ]
    }
   ],
   "source": [
    "## 22번 : 면허종별 - \"「의료법」에서는 처방전 발급 의무의 주체를 “의사 또는 치과의사”로 규정하고 해당 “의사 또는 치과의사”가 발급하는 처방전의 서식 등에 관해 규정\"\n",
    "## 한의사의 경우 처방전 발급 의무는 없으나 한약사에게 조제 요청을 위해 처방전을 발급하는 경우가 있음. (이 경우 약 이름은 한글이겠지요?) \n",
    "def id22():\n",
    "    license_list = [\"의사\", \"치과의사\", \"한의사\"]\n",
    "    n = randint(0,2)\n",
    "    return license_list[n],xy(22)\n",
    "\n",
    "\n",
    "print('22:',id22())"
   ]
  },
  {
   "cell_type": "code",
   "execution_count": 10,
   "metadata": {},
   "outputs": [
    {
     "name": "stdout",
     "output_type": "stream",
     "text": [
      "23: ('256074', [423, 242])\n"
     ]
    }
   ],
   "source": [
    "## 23번 면허 번호 : 6자리 숫자\n",
    "def id23():\n",
    "    num23 = str(randint(100000,999999))\n",
    "    return num23,xy(23)\n",
    "\n",
    "\n",
    "print('23:',id23())"
   ]
  },
  {
   "cell_type": "code",
   "execution_count": 11,
   "metadata": {},
   "outputs": [
    {
     "name": "stdout",
     "output_type": "stream",
     "text": [
      "114: (329, [162, 683])\n"
     ]
    }
   ],
   "source": [
    "def num114():    \n",
    "    return randint(1,366),xy(114)\n",
    "\n",
    "\n",
    "print('114:',num114())"
   ]
  },
  {
   "cell_type": "code",
   "execution_count": 12,
   "metadata": {},
   "outputs": [
    {
     "name": "stdout",
     "output_type": "stream",
     "text": [
      "118: 77\n"
     ]
    }
   ],
   "source": [
    "def num118():    \n",
    "    return randint(1,99)\n",
    "\n",
    "\n",
    "print('118:',num118())"
   ]
  },
  {
   "cell_type": "code",
   "execution_count": 13,
   "metadata": {},
   "outputs": [
    {
     "name": "stdout",
     "output_type": "stream",
     "text": [
      "19: 11년 04월 24일\n"
     ]
    }
   ],
   "source": [
    "def num119():    \n",
    "    year_full=str(randint(1950,2023))            \n",
    "    year=year_full[2:4]        \n",
    "    month=str(randint(1,13)).zfill(2)        \n",
    "    day=str(randint(1,32))        \n",
    "    return f'{year}년 {month}월 {day}일'\n",
    "\n",
    "\n",
    "print('19:',num119())"
   ]
  },
  {
   "cell_type": "code",
   "execution_count": 14,
   "metadata": {},
   "outputs": [
    {
     "name": "stdout",
     "output_type": "stream",
     "text": [
      "7: ('종근당바이오엘-발린', [362, 153])\n",
      "115: ('포비돈크리너액(포비', [142, 718])\n",
      "120: ('위드에이정10밀리그', [325, 735])\n"
     ]
    }
   ],
   "source": [
    "def med_name(id): # 7, 115, 120\n",
    "    \n",
    "    dataPath='../../1.data/3.DB/medicine_list.csv' # dataPath : 의약DB 경로\n",
    "    \n",
    "    df_med=pd.read_csv(dataPath)\n",
    "\n",
    "    index = randint(0, 40000)\n",
    "    \n",
    "    med_name = df_med.iloc[index, 2][:10]\n",
    "\n",
    "    return med_name,xy(id)\n",
    "\n",
    "\n",
    "for i in [7,115,120]:\n",
    "    print(f'{i}:',med_name(i))"
   ]
  }
 ],
 "metadata": {
  "kernelspec": {
   "display_name": "Python 3",
   "language": "python",
   "name": "python3"
  },
  "language_info": {
   "codemirror_mode": {
    "name": "ipython",
    "version": 3
   },
   "file_extension": ".py",
   "mimetype": "text/x-python",
   "name": "python",
   "nbconvert_exporter": "python",
   "pygments_lexer": "ipython3",
   "version": "3.10.9"
  },
  "orig_nbformat": 4
 },
 "nbformat": 4,
 "nbformat_minor": 2
}
