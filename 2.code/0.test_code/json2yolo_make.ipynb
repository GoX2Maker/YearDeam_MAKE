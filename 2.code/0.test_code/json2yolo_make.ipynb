{
 "cells": [
  {
   "cell_type": "code",
   "execution_count": 3,
   "metadata": {},
   "outputs": [
    {
     "name": "stdout",
     "output_type": "stream",
     "text": [
      "Requirement already satisfied: pybboxes in c:\\users\\zkzk7\\appdata\\local\\programs\\python\\python311\\lib\\site-packages (0.1.6)\n",
      "Requirement already satisfied: numpy in c:\\users\\zkzk7\\appdata\\local\\programs\\python\\python311\\lib\\site-packages (from pybboxes) (1.24.3)\n"
     ]
    },
    {
     "name": "stderr",
     "output_type": "stream",
     "text": [
      "\n",
      "[notice] A new release of pip available: 22.3.1 -> 23.2\n",
      "[notice] To update, run: python.exe -m pip install --upgrade pip\n"
     ]
    }
   ],
   "source": [
    "!pip install pybboxes"
   ]
  },
  {
   "cell_type": "code",
   "execution_count": 7,
   "metadata": {},
   "outputs": [
    {
     "ename": "FileNotFoundError",
     "evalue": "[Errno 2] No such file or directory: '.\\\\.\\\\1.data\\\\4.dataSet\\\\json\\\\0.json'",
     "output_type": "error",
     "traceback": [
      "\u001b[1;31m---------------------------------------------------------------------------\u001b[0m",
      "\u001b[1;31mFileNotFoundError\u001b[0m                         Traceback (most recent call last)",
      "Cell \u001b[1;32mIn[7], line 21\u001b[0m\n\u001b[0;32m     19\u001b[0m W, H \u001b[39m=\u001b[39m \u001b[39m595\u001b[39m, \u001b[39m842\u001b[39m\n\u001b[0;32m     20\u001b[0m json_path \u001b[39m=\u001b[39m \u001b[39mr\u001b[39m\u001b[39m\"\u001b[39m\u001b[39m.\u001b[39m\u001b[39m\\\u001b[39m\u001b[39m.\u001b[39m\u001b[39m\\\u001b[39m\u001b[39m1.data\u001b[39m\u001b[39m\\\u001b[39m\u001b[39m4.dataSet\u001b[39m\u001b[39m\\\u001b[39m\u001b[39mjson\u001b[39m\u001b[39m\\\u001b[39m\u001b[39m0.json\u001b[39m\u001b[39m\"\u001b[39m\n\u001b[1;32m---> 21\u001b[0m \u001b[39mwith\u001b[39;00m \u001b[39mopen\u001b[39;49m(json_path, \u001b[39m'\u001b[39;49m\u001b[39mr\u001b[39;49m\u001b[39m'\u001b[39;49m) \u001b[39mas\u001b[39;00m json_file:\n\u001b[0;32m     22\u001b[0m     data \u001b[39m=\u001b[39m json\u001b[39m.\u001b[39mload(json_file)\n\u001b[0;32m     23\u001b[0m points \u001b[39m=\u001b[39m []\n",
      "File \u001b[1;32mc:\\Users\\zkzk7\\AppData\\Local\\Programs\\Python\\Python311\\Lib\\site-packages\\IPython\\core\\interactiveshell.py:284\u001b[0m, in \u001b[0;36m_modified_open\u001b[1;34m(file, *args, **kwargs)\u001b[0m\n\u001b[0;32m    277\u001b[0m \u001b[39mif\u001b[39;00m file \u001b[39min\u001b[39;00m {\u001b[39m0\u001b[39m, \u001b[39m1\u001b[39m, \u001b[39m2\u001b[39m}:\n\u001b[0;32m    278\u001b[0m     \u001b[39mraise\u001b[39;00m \u001b[39mValueError\u001b[39;00m(\n\u001b[0;32m    279\u001b[0m         \u001b[39mf\u001b[39m\u001b[39m\"\u001b[39m\u001b[39mIPython won\u001b[39m\u001b[39m'\u001b[39m\u001b[39mt let you open fd=\u001b[39m\u001b[39m{\u001b[39;00mfile\u001b[39m}\u001b[39;00m\u001b[39m by default \u001b[39m\u001b[39m\"\u001b[39m\n\u001b[0;32m    280\u001b[0m         \u001b[39m\"\u001b[39m\u001b[39mas it is likely to crash IPython. If you know what you are doing, \u001b[39m\u001b[39m\"\u001b[39m\n\u001b[0;32m    281\u001b[0m         \u001b[39m\"\u001b[39m\u001b[39myou can use builtins\u001b[39m\u001b[39m'\u001b[39m\u001b[39m open.\u001b[39m\u001b[39m\"\u001b[39m\n\u001b[0;32m    282\u001b[0m     )\n\u001b[1;32m--> 284\u001b[0m \u001b[39mreturn\u001b[39;00m io_open(file, \u001b[39m*\u001b[39;49margs, \u001b[39m*\u001b[39;49m\u001b[39m*\u001b[39;49mkwargs)\n",
      "\u001b[1;31mFileNotFoundError\u001b[0m: [Errno 2] No such file or directory: '.\\\\.\\\\1.data\\\\4.dataSet\\\\json\\\\0.json'"
     ]
    }
   ],
   "source": [
    "# 라이브러리 불러오기\n",
    "\n",
    "import json\n",
    "import os\n",
    "import pybboxes as pbx\n",
    "\n",
    "# 1. # yolo 학습용 박스와 라벨 정보가 담긴 .txt파일을 저장할 폴더 만들기\n",
    "# def make_dir():\n",
    "#     os.mkdir(\"./test\")\n",
    "#     os.mkdir(\"./train\")\n",
    "#     os.mkdir(\"./valid\")\n",
    "#     os.mkdir(\"./test/image\")\n",
    "#     os.mkdir(\"./test/txt\")\n",
    "    \n",
    "# 2. 이미지와 Json 파일들 읽기\n",
    "# 2.1 json에서 모든 x1, x2, y1, y2 읽는다.\n",
    "# 2.2 Yolo형식에 맞게 파일을 변환한다.(스케일링 필수)\n",
    "\n",
    "W, H = 595, 842\n",
    "json_path = r\".\\.\\1.data\\4.dataSet\\json\\0.json\"\n",
    "with open(json_path, 'r') as json_file:\n",
    "    data = json.load(json_file)\n",
    "points = []\n",
    "for data_ in data:\n",
    "    point = [0]\n",
    "    x1 = int(data_['x1'])\n",
    "    y1 = int(data_['y1'])\n",
    "    x2 = int(data_['x2'])\n",
    "    y2 = int(data_['y2'])\n",
    "    voc_bbox = (x1, y1, x2, y2)\n",
    "    temp=list(pbx.convert_bbox(voc_bbox, from_type=\"voc\", to_type=\"yolo\", image_size=(W,H)))\n",
    "    point+=temp\n",
    "    points.append(point)\n",
    "tmp = \"\"     \n",
    "for id, x, y, w, h in points:\n",
    "    tmp += f'{id} {x} {y} {w} {h}\\n'\n",
    "print(tmp)\n",
    "\n",
    "# list 형식으로 출력한 YOLO POINT를 txt파일로 출력\n",
    "file_name ='./0.txt'\n",
    "with open(file_name, 'w+') as txt_file:\n",
    "    txt_file.write(tmp)\n",
    "\n"
   ]
  },
  {
   "cell_type": "code",
   "execution_count": null,
   "metadata": {},
   "outputs": [],
   "source": [
    "# \n",
    "\n",
    "\n"
   ]
  },
  {
   "cell_type": "code",
   "execution_count": null,
   "metadata": {},
   "outputs": [],
   "source": [
    "import json\n",
    "\n",
    "# JSON 파일 열기\n",
    "\n",
    "\n",
    "# # 데이터를 문자열로 변환\n",
    "# data_str = json.dumps(data, indent=4)\n",
    "\n",
    "# # 텍스트 파일로 저장\n",
    "# with open('output.txt', 'w') as text_file:\n",
    "#     text_file.write(data_str)"
   ]
  },
  {
   "cell_type": "code",
   "execution_count": null,
   "metadata": {},
   "outputs": [],
   "source": [
    "\n",
    "def test(json):\n",
    "    width=x2-x1\n",
    "    height=y2-y1\n",
    "    center_x=(x2+x1)/2\n",
    "    center_y=(y2+y1)/2\n",
    "    return width,height,center_x,center_y"
   ]
  },
  {
   "cell_type": "markdown",
   "metadata": {},
   "source": []
  }
 ],
 "metadata": {
  "kernelspec": {
   "display_name": "yeardream",
   "language": "python",
   "name": "python3"
  },
  "language_info": {
   "codemirror_mode": {
    "name": "ipython",
    "version": 3
   },
   "file_extension": ".py",
   "mimetype": "text/x-python",
   "name": "python",
   "nbconvert_exporter": "python",
   "pygments_lexer": "ipython3",
   "version": "3.11.2"
  },
  "orig_nbformat": 4
 },
 "nbformat": 4,
 "nbformat_minor": 2
}
