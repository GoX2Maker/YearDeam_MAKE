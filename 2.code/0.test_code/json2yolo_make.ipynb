{
 "cells": [
  {
   "cell_type": "code",
   "execution_count": 18,
   "metadata": {},
   "outputs": [],
   "source": [
    "from general_json2yolo import convert_infolks_json as JY\n"
   ]
  },
  {
   "cell_type": "code",
   "execution_count": 19,
   "metadata": {},
   "outputs": [
    {
     "ename": "NameError",
     "evalue": "name 'make_dirs' is not defined",
     "output_type": "error",
     "traceback": [
      "\u001b[1;31m---------------------------------------------------------------------------\u001b[0m",
      "\u001b[1;31mNameError\u001b[0m                                 Traceback (most recent call last)",
      "Cell \u001b[1;32mIn[19], line 4\u001b[0m\n\u001b[0;32m      2\u001b[0m files \u001b[39m=\u001b[39m \u001b[39mr\u001b[39m\u001b[39m\"\u001b[39m\u001b[39mC:\u001b[39m\u001b[39m\\\u001b[39m\u001b[39mUsers\u001b[39m\u001b[39m\\\u001b[39m\u001b[39mexcel\u001b[39m\u001b[39m\\\u001b[39m\u001b[39mOneDrive\u001b[39m\u001b[39m\\\u001b[39m\u001b[39m문서\u001b[39m\u001b[39m\\\u001b[39m\u001b[39mdev\u001b[39m\u001b[39m\\\u001b[39m\u001b[39mYearDeam_MAKE\u001b[39m\u001b[39m\\\u001b[39m\u001b[39m1.data\u001b[39m\u001b[39m\\\u001b[39m\u001b[39m4.dataSet\u001b[39m\u001b[39m\\\u001b[39m\u001b[39mjson\u001b[39m\u001b[39m\\\u001b[39m\u001b[39m0.json\u001b[39m\u001b[39m\"\u001b[39m\n\u001b[0;32m      3\u001b[0m img_path \u001b[39m=\u001b[39m \u001b[39mr\u001b[39m\u001b[39m\"\u001b[39m\u001b[39mC:\u001b[39m\u001b[39m\\\u001b[39m\u001b[39mUsers\u001b[39m\u001b[39m\\\u001b[39m\u001b[39mexcel\u001b[39m\u001b[39m\\\u001b[39m\u001b[39mOneDrive\u001b[39m\u001b[39m\\\u001b[39m\u001b[39m문서\u001b[39m\u001b[39m\\\u001b[39m\u001b[39mdev\u001b[39m\u001b[39m\\\u001b[39m\u001b[39mYearDeam_MAKE\u001b[39m\u001b[39m\\\u001b[39m\u001b[39m1.data\u001b[39m\u001b[39m\\\u001b[39m\u001b[39m4.dataSet\u001b[39m\u001b[39m\\\u001b[39m\u001b[39mimg\u001b[39m\u001b[39m\"\u001b[39m\n\u001b[1;32m----> 4\u001b[0m JY(name, files, img_path)\n",
      "File \u001b[1;32mc:\\Users\\excel\\OneDrive\\문서\\dev\\YearDeam_MAKE\\2.code\\0.test_code\\general_json2yolo.py:15\u001b[0m, in \u001b[0;36mconvert_infolks_json\u001b[1;34m(name, files, img_path)\u001b[0m\n\u001b[0;32m     13\u001b[0m \u001b[39mdef\u001b[39;00m \u001b[39mconvert_infolks_json\u001b[39m(name, files, img_path):\n\u001b[0;32m     14\u001b[0m     \u001b[39m# Create folders\u001b[39;00m\n\u001b[1;32m---> 15\u001b[0m     path \u001b[39m=\u001b[39m make_dirs()\n\u001b[0;32m     17\u001b[0m     \u001b[39m# Import json\u001b[39;00m\n\u001b[0;32m     18\u001b[0m     data \u001b[39m=\u001b[39m []\n",
      "\u001b[1;31mNameError\u001b[0m: name 'make_dirs' is not defined"
     ]
    }
   ],
   "source": [
    "name = \"test\"\n",
    "files = r\"C:\\Users\\excel\\OneDrive\\문서\\dev\\YearDeam_MAKE\\1.data\\4.dataSet\\json\\0.json\"\n",
    "img_path = r\"C:\\Users\\excel\\OneDrive\\문서\\dev\\YearDeam_MAKE\\1.data\\4.dataSet\\img\"\n",
    "JY(name, files, img_path)"
   ]
  },
  {
   "cell_type": "markdown",
   "metadata": {},
   "source": []
  }
 ],
 "metadata": {
  "kernelspec": {
   "display_name": "yeardream",
   "language": "python",
   "name": "python3"
  },
  "language_info": {
   "codemirror_mode": {
    "name": "ipython",
    "version": 3
   },
   "file_extension": ".py",
   "mimetype": "text/x-python",
   "name": "python",
   "nbconvert_exporter": "python",
   "pygments_lexer": "ipython3",
   "version": "3.9.16"
  },
  "orig_nbformat": 4
 },
 "nbformat": 4,
 "nbformat_minor": 2
}
